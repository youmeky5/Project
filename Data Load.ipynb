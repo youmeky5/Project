{
 "cells": [
  {
   "cell_type": "code",
   "execution_count": 1,
   "metadata": {},
   "outputs": [],
   "source": [
    "import glob\n",
    "import numpy as np\n",
    "import pandas as pd\n",
    "import cv2\n",
    "#import torchvision.transforms as transforms"
   ]
  },
  {
   "cell_type": "code",
   "execution_count": 2,
   "metadata": {},
   "outputs": [],
   "source": [
    "def add_start_and_end_and_make_same_len(L,caption):\n",
    "    result=caption.split(' ')\n",
    "    result.insert(0,'<start>')\n",
    "    result.append('<end>')\n",
    "    while len(result)<L:\n",
    "        result.append('<pad>')\n",
    "    return result\n",
    "def convert_word2number(captions):\n",
    "    all_word_list=[]\n",
    "    for caption in captions:\n",
    "        all_word_list+=caption\n",
    "    word_list=set(all_word_list)\n",
    "    word_dict={}\n",
    "    for i,word in enumerate(word_list,0):\n",
    "        word_dict[word]=i\n",
    "    new_captions=[]\n",
    "    for caption in captions:\n",
    "        new_caption=[]\n",
    "        for word in caption:\n",
    "            new_caption.append(word_dict[word])\n",
    "        new_captions.append(new_caption)\n",
    "    return new_captions,word_dict"
   ]
  },
  {
   "cell_type": "code",
   "execution_count": 3,
   "metadata": {},
   "outputs": [],
   "source": [
    "animals=['giraffe','kangaroo','rabbit','cow','dolphine','elephant','deer','donkey']\n",
    "filenames=[]\n",
    "captioning_dict={}\n",
    "captionlen_dict={}\n",
    "for animal in animals:\n",
    "    filenames+=glob.glob(f'./final_train_image/{animal}/*.jpg')\n",
    "    with open(f'./final_train_image/{animal}/{animal}.txt','r') as f:\n",
    "        for line in f:\n",
    "            path,description=line.strip('\\n').split(':')\n",
    "            result=add_start_and_end_and_make_same_len(20,description)\n",
    "            captioning_dict[path]=result\n",
    "            captionlen_dict[path]=len(description.split(' '))+2\n",
    "    \n",
    "new_captions,word_dict=convert_word2number(captioning_dict.values())\n",
    "dataset=[]\n",
    "for filename in filenames:\n",
    "    filename=filename.replace('\\\\','/')\n",
    "    img=cv2.imread(filename)\n",
    "    img=img.transpose(2,0,1)\n",
    "    dataset.append([img,captioning_dict[filename],captionlen_dict[filename]])"
   ]
  },
  {
   "cell_type": "code",
   "execution_count": 4,
   "metadata": {},
   "outputs": [],
   "source": [
    "filenames=[]\n",
    "captioning_dict={}\n",
    "captionlen_dict={}\n",
    "for animal in animals:\n",
    "    filenames+=glob.glob(f'./final_train_image/{animal}/*.jpg')\n",
    "    with open(f'./final_train_image/{animal}/{animal}.txt','r') as f:\n",
    "        for line in f:\n",
    "            path,description=line.strip('\\n').split(':')\n",
    "            result=add_start_and_end_and_make_same_len(20,description)\n",
    "            new_desc=[]\n",
    "            for word in result:\n",
    "                new_desc.append(word_dict[word])\n",
    "            captioning_dict[path]=new_desc\n",
    "            captionlen_dict[path]=len(description.split(' '))+2\n",
    "dataset=[]\n",
    "for filename in filenames:\n",
    "    filename=filename.replace('\\\\','/')\n",
    "    img=cv2.imread(filename)\n",
    "    img=img.transpose(2,0,1)\n",
    "    dataset.append([img,captioning_dict[filename],captionlen_dict[filename]])"
   ]
  },
  {
   "cell_type": "code",
   "execution_count": 7,
   "metadata": {},
   "outputs": [],
   "source": [
    "np.save('captioning_word_map.npy',word_dict)"
   ]
  },
  {
   "cell_type": "code",
   "execution_count": 8,
   "metadata": {},
   "outputs": [],
   "source": [
    "np.save('captioning_dataset.npy',dataset)"
   ]
  },
  {
   "cell_type": "code",
   "execution_count": 6,
   "metadata": {},
   "outputs": [
    {
     "data": {
      "text/plain": [
       "903"
      ]
     },
     "execution_count": 6,
     "metadata": {},
     "output_type": "execute_result"
    }
   ],
   "source": [
    "len(dataset)"
   ]
  },
  {
   "cell_type": "code",
   "execution_count": 5,
   "metadata": {},
   "outputs": [
    {
     "data": {
      "text/plain": [
       "{'': 0,\n",
       " 'giraffe': 1,\n",
       " 'herd': 2,\n",
       " 'three': 3,\n",
       " 'other': 4,\n",
       " 'to': 5,\n",
       " 'water': 6,\n",
       " 'of': 7,\n",
       " 'woman': 8,\n",
       " 'each': 9,\n",
       " 'walking': 10,\n",
       " 'gray': 11,\n",
       " 'rock': 12,\n",
       " 'near': 13,\n",
       " 'a': 14,\n",
       " 'feeding': 15,\n",
       " 'elephant': 16,\n",
       " 'standing': 17,\n",
       " 'during': 18,\n",
       " 'nighttime': 19,\n",
       " 'lying': 20,\n",
       " 'jumping': 21,\n",
       " 'two': 22,\n",
       " 'is': 23,\n",
       " 'ground': 24,\n",
       " 'dolphine': 25,\n",
       " 'running': 26,\n",
       " 'mountain': 27,\n",
       " 'field': 28,\n",
       " 'cow': 29,\n",
       " 'one': 30,\n",
       " 'staying': 31,\n",
       " 'brown': 32,\n",
       " 'griaffe': 33,\n",
       " 'donkey': 34,\n",
       " 'swimming': 35,\n",
       " 'showing': 36,\n",
       " 'flower': 37,\n",
       " 'in': 38,\n",
       " 'rabbit': 39,\n",
       " 'the': 40,\n",
       " 'daytime': 41,\n",
       " 'grass': 42,\n",
       " 'from': 43,\n",
       " 'tree': 44,\n",
       " 'staring': 45,\n",
       " 'eatting': 46,\n",
       " 'mouse': 47,\n",
       " '<start>': 48,\n",
       " 'man': 49,\n",
       " 'with': 50,\n",
       " '<pad>': 51,\n",
       " 'through': 52,\n",
       " 'kangaroo': 53,\n",
       " 'are': 54,\n",
       " 'black': 55,\n",
       " 'sitting': 56,\n",
       " 'drinking': 57,\n",
       " 'white': 58,\n",
       " 'grey': 59,\n",
       " 'and': 60,\n",
       " 'head': 61,\n",
       " 'on': 62,\n",
       " 'green': 63,\n",
       " 'deer': 64,\n",
       " '<end>': 65}"
      ]
     },
     "execution_count": 5,
     "metadata": {},
     "output_type": "execute_result"
    }
   ],
   "source": [
    "word_dict"
   ]
  },
  {
   "cell_type": "code",
   "execution_count": null,
   "metadata": {},
   "outputs": [],
   "source": []
  }
 ],
 "metadata": {
  "kernelspec": {
   "display_name": "Python 3",
   "language": "python",
   "name": "python3"
  },
  "language_info": {
   "codemirror_mode": {
    "name": "ipython",
    "version": 3
   },
   "file_extension": ".py",
   "mimetype": "text/x-python",
   "name": "python",
   "nbconvert_exporter": "python",
   "pygments_lexer": "ipython3",
   "version": "3.7.6"
  }
 },
 "nbformat": 4,
 "nbformat_minor": 4
}
