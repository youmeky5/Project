{
 "cells": [
  {
   "cell_type": "code",
   "execution_count": 47,
   "metadata": {},
   "outputs": [
    {
     "name": "stdout",
     "output_type": "stream",
     "text": [
      "Write animal to download image: hedgehod\n"
     ]
    }
   ],
   "source": [
    "from pexels_api import API\n",
    "import requests\n",
    "import os\n",
    "#PEXELS_API_KEY = '563492ad6f9170000100000194acf3a3808942f4bdaef9edb1159909'\n",
    "PEXELS_API_KEY='563492ad6f917000010000019bc142edc3664aa78a3be676c8e037bf'\n",
    "api = API(PEXELS_API_KEY)\n",
    "n=1\n",
    "i=1\n",
    "photos=[]\n",
    "animal=input('Write animal to download image: ')\n",
    "while n!=0:\n",
    "    api.search(animal, page=i, results_per_page=80)\n",
    "    photos_cur= api.get_entries()\n",
    "    n=len(photos_cur)\n",
    "    photos+=photos_cur\n",
    "    i+=1\n",
    "descriptions=[]\n",
    "if os.path.exists(f'./data_image/{animal}')==False:\n",
    "    os.mkdir(f'./data_image/{animal}')\n",
    "for i,photo in enumerate(photos,1):\n",
    "    req=requests.get(photo.large).content\n",
    "    descriptions.append(f'{animal}_{i}.jpg:'+' '.join(photo.description.split('-')))\n",
    "    with open(f'./data_image/{animal}/{animal}_{i}.jpg','wb') as handle:\n",
    "        handle.write(req)\n",
    "with open(f'./data_image/{animal}/{animal}.txt','w') as file:\n",
    "    for description in descriptions:\n",
    "        file.write(description+'\\n')"
   ]
  },
  {
   "cell_type": "code",
   "execution_count": 25,
   "metadata": {},
   "outputs": [],
   "source": [
    "descriptions=[]\n",
    "os.mkdir(f'./data_image/{animal}')\n",
    "for i,photo in enumerate(photos,1):\n",
    "    req=requests.get(photo.large).content\n",
    "    descriptions.append(f'{animal}_{i}.jpg:'+' '.join(photo.description.split('-')))\n",
    "    with open(f'./data_image/{animal}/{animal}_{i}.jpg','wb') as handle:\n",
    "        handle.write(req)\n",
    "with open(f'./data_image/{animal}/{animal}.txt','w') as file:\n",
    "    for description in descriptions:\n",
    "        file.write(description+'\\n')"
   ]
  },
  {
   "cell_type": "code",
   "execution_count": 22,
   "metadata": {},
   "outputs": [],
   "source": [
    "import cv2\n",
    "img=cv2.imread('./data_image/elephant/elephant_2.jpg')\n",
    "cv2.imshow('1',img)\n",
    "cv2.waitKey()\n",
    "cv2.destroyAllWindows()\n"
   ]
  }
 ],
 "metadata": {
  "kernelspec": {
   "display_name": "Python 3",
   "language": "python",
   "name": "python3"
  },
  "language_info": {
   "codemirror_mode": {
    "name": "ipython",
    "version": 3
   },
   "file_extension": ".py",
   "mimetype": "text/x-python",
   "name": "python",
   "nbconvert_exporter": "python",
   "pygments_lexer": "ipython3",
   "version": "3.7.6"
  }
 },
 "nbformat": 4,
 "nbformat_minor": 4
}
